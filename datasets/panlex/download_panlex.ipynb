{
 "cells": [
  {
   "cell_type": "code",
   "execution_count": null,
   "id": "10142d44",
   "metadata": {},
   "outputs": [],
   "source": [
    "import requests\n",
    "from tqdm import tqdm\n",
    "\n",
    "# URL of the file (direct link to raw content)\n",
    "file_url = \"https://huggingface.co/datasets/lbourdois/panlex/resolve/main/panlex.csv\"\n",
    "\n",
    "# Local filename to save the file\n",
    "local_filename = \"panlex.csv\"\n",
    "\n",
    "# Send a request to get the file size\n",
    "response = requests.get(file_url, stream=True)\n",
    "response.raise_for_status()\n",
    "\n",
    "# Get total file size in bytes (if available)\n",
    "total_size = int(response.headers.get(\"content-length\", 0))\n",
    "\n",
    "# Download and save the file with a progress bar\n",
    "with open(local_filename, \"wb\") as file, tqdm(\n",
    "    desc=\"Downloading\",\n",
    "    total=total_size,\n",
    "    unit=\"B\",\n",
    "    unit_scale=True,\n",
    "    unit_divisor=1024,\n",
    ") as progress:\n",
    "    for chunk in response.iter_content(chunk_size=8192):\n",
    "        file.write(chunk)\n",
    "        progress.update(len(chunk))\n",
    "\n",
    "print(f\"File downloaded successfully as: {local_filename}\")\n"
   ]
  },
  {
   "cell_type": "code",
   "execution_count": null,
   "id": "137d34b7",
   "metadata": {},
   "outputs": [],
   "source": [
    "import pandas as pd\n",
    "\n",
    "df = pd.read_csv('panlex.csv', sep=';')\n",
    "df = df[df['english_name_var']=='English']\n",
    "df = df[~df['vocab'].str.contains(' ')]"
   ]
  },
  {
   "cell_type": "code",
   "execution_count": null,
   "id": "3ed0b4fb",
   "metadata": {},
   "outputs": [],
   "source": [
    "import pandas as pd\n",
    "from transformers import AutoTokenizer\n",
    "from tqdm import tqdm\n",
    "\n",
    "# Load the tokenizer for CodeLlama-7b-hf\n",
    "tokenizer = AutoTokenizer.from_pretrained(\"meta-llama/Llama-3.1-8B\")\n",
    "\n",
    "def filter_tokens(word):\n",
    "    tokens = tokenizer.tokenize(word)\n",
    "    if len(tokens) == 1:\n",
    "        return word  # Keep the word if it's tokenized into a single token\n",
    "    else:\n",
    "        return None  # Discard the word if it's tokenized into more than one token\n",
    "\n",
    "# Enable tqdm for pandas apply\n",
    "tqdm.pandas()\n",
    "\n",
    "# Apply the filter function to the 'vocab' column with progress tracking\n",
    "df['filtered'] = df['vocab'].progress_apply(filter_tokens)\n",
    "\n",
    "# Remove rows where the filtered column is None (i.e., more than 1 token)\n",
    "df_filtered = df.dropna(subset=['filtered'])"
   ]
  },
  {
   "cell_type": "code",
   "execution_count": null,
   "id": "bb0cd71b",
   "metadata": {},
   "outputs": [],
   "source": [
    "special_chars = [str(i) for i in range(0, 101)] + ['{', '}', '(', ')', '[', ']', '-', '+', '.', ',', ';', '\"']\n",
    "\n",
    "keywords_list = {}\n",
    "\n",
    "keywords_list['ENG'] = list(set(df_filtered['vocab'].values) - set(special_chars))\n",
    "keywords_list['ENGPURE'] = list(set(keywords_list['ENG']) - set(keywords_list['all']))"
   ]
  },
  {
   "cell_type": "code",
   "execution_count": null,
   "id": "e4a42884",
   "metadata": {},
   "outputs": [],
   "source": []
  }
 ],
 "metadata": {
  "kernelspec": {
   "display_name": "Python 3 (ipykernel)",
   "language": "python",
   "name": "python3"
  },
  "language_info": {
   "codemirror_mode": {
    "name": "ipython",
    "version": 3
   },
   "file_extension": ".py",
   "mimetype": "text/x-python",
   "name": "python",
   "nbconvert_exporter": "python",
   "pygments_lexer": "ipython3",
   "version": "3.8.16"
  }
 },
 "nbformat": 4,
 "nbformat_minor": 5
}
