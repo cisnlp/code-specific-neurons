{
 "cells": [
  {
   "cell_type": "markdown",
   "id": "f983f2ef",
   "metadata": {},
   "source": [
    "## Download Raw PL Data"
   ]
  },
  {
   "cell_type": "code",
   "execution_count": null,
   "id": "47bcd56f",
   "metadata": {},
   "outputs": [],
   "source": [
    "from collections import defaultdict\n",
    "from datasets import load_dataset\n",
    "\n",
    "# List of target languages\n",
    "languages = [\"Java\", \"C\", \"Python\", \"HTML\", \"PHP\", \"Markdown\", \"C++\", \"C#\", \"Ruby\", \"Rust\", \"GO\", \"JavaScript\", \"SQL\"]\n",
    "\n",
    "# Load the dataset in streaming mode\n",
    "ds = load_dataset(\"codeparrot/github-code\", split=\"train\", cache_dir='../../data_cache/', streaming=True)\n",
    "\n",
    "# Initialize the dictionary to hold code snippets for each language\n",
    "language_dict = defaultdict(list)\n",
    "\n",
    "# Define the maximum number of data points per language\n",
    "max_datapoints = 50000\n",
    "\n",
    "# Function to check if all target languages have reached the limit\n",
    "def all_languages_full(data, target_languages, max_limit):\n",
    "    return all(len(data[lang]) >= max_limit for lang in target_languages)\n",
    "\n",
    "# Define the step interval for checking conditions\n",
    "step_interval = 100000\n",
    "\n",
    "# Iterate through the dataset\n",
    "for idx, item in enumerate(ds):\n",
    "    if \"language\" in item and \"code\" in item:\n",
    "        lang = item[\"language\"]\n",
    "        code = item[\"code\"]\n",
    "        \n",
    "        # Process only target languages\n",
    "        if lang in languages and len(language_dict[lang]) < max_datapoints:\n",
    "            language_dict[lang].append(code)\n",
    "    \n",
    "    # Check conditions every step_interval\n",
    "    if (idx + 1) % step_interval == 0:\n",
    "        \n",
    "        # Debug: Print the summary of collected data\n",
    "        for language, code_list in language_dict.items():\n",
    "            print(f\"Language: {language}, Number of Snippets: {len(code_list)}\")\n",
    "\n",
    "        if all_languages_full(language_dict, languages, max_datapoints):\n",
    "            print(f\"All target languages reached {max_datapoints} items. Stopping early.\")\n",
    "            break\n"
   ]
  },
  {
   "cell_type": "markdown",
   "id": "e2307c08",
   "metadata": {},
   "source": [
    "## Download Raw Wikipedia English"
   ]
  },
  {
   "cell_type": "code",
   "execution_count": null,
   "id": "3cfbc1d8",
   "metadata": {},
   "outputs": [],
   "source": [
    "from collections import defaultdict\n",
    "from datasets import load_dataset\n",
    "\n",
    "# Load the dataset in streaming mode\n",
    "ds = load_dataset(\"wikimedia/wikipedia\", \"20231101.en\", cache_dir='../../data_cache/', streaming=True, split=\"train\")\n",
    "\n",
    "\n",
    "# Initialize the dictionary to hold code snippets for each language\n",
    "language_dict = defaultdict(list)\n",
    "\n",
    "# Define the maximum number of data points per language\n",
    "max_datapoints = 50000\n",
    "\n",
    "# Iterate through the dataset\n",
    "for idx, item in enumerate(ds):\n",
    "    text = item[\"text\"]\n",
    "    # Process only target languages\n",
    "    if len(language_dict['Wiki']) < max_datapoints:\n",
    "        language_dict['Wiki'].append(text)\n",
    "    else:\n",
    "        break"
   ]
  },
  {
   "cell_type": "code",
   "execution_count": null,
   "id": "442e72ee",
   "metadata": {},
   "outputs": [],
   "source": [
    "import pickle\n",
    "\n",
    "def save_dict(data, filename=\"dict_of_lists.pkl\"):\n",
    "    with open(filename, \"wb\") as f:\n",
    "        pickle.dump(data, f)\n",
    "    print(f\"Dictionary saved to {filename}\")\n",
    "\n",
    "\n",
    "# Function to load the dictionary from a pickle file\n",
    "def load_dict(filename=\"dict_of_lists.pkl\"):\n",
    "    with open(filename, \"rb\") as f:\n",
    "        data = pickle.load(f)\n",
    "    print(f\"Dictionary loaded from {filename}\")\n",
    "    return data"
   ]
  },
  {
   "cell_type": "code",
   "execution_count": null,
   "id": "80eda831",
   "metadata": {},
   "outputs": [],
   "source": [
    "# Save the example dictionary\n",
    "save_dict(language_dict)\n",
    "\n",
    "# Load the dictionary\n",
    "loaded_dict = load_dict()"
   ]
  }
 ],
 "metadata": {
  "kernelspec": {
   "display_name": "Python 3 (ipykernel)",
   "language": "python",
   "name": "python3"
  },
  "language_info": {
   "codemirror_mode": {
    "name": "ipython",
    "version": 3
   },
   "file_extension": ".py",
   "mimetype": "text/x-python",
   "name": "python",
   "nbconvert_exporter": "python",
   "pygments_lexer": "ipython3",
   "version": "3.8.16"
  }
 },
 "nbformat": 4,
 "nbformat_minor": 5
}
